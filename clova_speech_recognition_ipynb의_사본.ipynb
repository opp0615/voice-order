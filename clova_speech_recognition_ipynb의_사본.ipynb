{
  "nbformat": 4,
  "nbformat_minor": 0,
  "metadata": {
    "colab": {
      "name": "clova_speech_recognition.ipynb의 사본",
      "version": "0.3.2",
      "provenance": [],
      "collapsed_sections": [],
      "include_colab_link": true
    },
    "kernelspec": {
      "name": "python3",
      "display_name": "Python 3"
    },
    "accelerator": "GPU"
  },
  "cells": [
    {
      "cell_type": "markdown",
      "metadata": {
        "id": "view-in-github",
        "colab_type": "text"
      },
      "source": [
        "<a href=\"https://colab.research.google.com/github/opp0615/voice-order/blob/master/clova_speech_recognition_ipynb%EC%9D%98_%EC%82%AC%EB%B3%B8.ipynb\" target=\"_parent\"><img src=\"https://colab.research.google.com/assets/colab-badge.svg\" alt=\"Open In Colab\"/></a>"
      ]
    },
    {
      "cell_type": "code",
      "metadata": {
        "id": "3up8NYZ3k18u",
        "colab_type": "code",
        "outputId": "5c31befc-7c40-4732-ba7b-70265146709c",
        "colab": {
          "base_uri": "https://localhost:8080/",
          "height": 36
        }
      },
      "source": [
        "from google.colab import drive\n",
        "drive.mount('/content/gdrive')"
      ],
      "execution_count": 1,
      "outputs": [
        {
          "output_type": "stream",
          "text": [
            "Drive already mounted at /content/gdrive; to attempt to forcibly remount, call drive.mount(\"/content/gdrive\", force_remount=True).\n"
          ],
          "name": "stdout"
        }
      ]
    },
    {
      "cell_type": "code",
      "metadata": {
        "id": "AWrgs_A7XbgR",
        "colab_type": "code",
        "outputId": "21eb39c4-4f2e-4c84-b189-394a7f16bfa6",
        "colab": {
          "base_uri": "https://localhost:8080/",
          "height": 56
        }
      },
      "source": [
        "import sys\n",
        "import requests\n",
        "\n",
        "import pymysql\n",
        "import os\n",
        "import sys\n",
        "sys.path.insert(0, '/content/gdrive/My Drive/Colab Notebooks/stt/')\n",
        "import config\n",
        "\n",
        "client_id=config.DATABASE_CONFIG['client_id']\n",
        "client_secret=config.DATABASE_CONFIG['client_secret']\n",
        "lang = \"Kor\" # 언어 코드 ( Kor, Jpn, Eng, Chn )\n",
        "url = \"https://naveropenapi.apigw.ntruss.com/recog/v1/stt?lang=\" + lang\n",
        "data = open('/content/gdrive/My Drive/Colab Notebooks/stt/3.m4a', 'rb')\n",
        "headers = {\n",
        "    \"X-NCP-APIGW-API-KEY-ID\": client_id,\n",
        "    \"X-NCP-APIGW-API-KEY\": client_secret,\n",
        "    \"Content-Type\": \"application/octet-stream\"\n",
        "}\n",
        "response = requests.post(url,  data=data, headers=headers)\n",
        "rescode = response.status_code\n",
        "if(rescode == 200):\n",
        "    print (response.text)\n",
        "else:\n",
        "    print(\"Error : \" + response.text)\n",
        "txt=response.text"
      ],
      "execution_count": 2,
      "outputs": [
        {
          "output_type": "stream",
          "text": [
            "{\"text\":\"파스타는 알리오 올리오나 까르보나라나 라구 파스타 하나 그리고 샐러드는 픽셀로 달려 주시고 그리고 파스타 해산물 토마토 파스타 나도 주세요 그리고 피자는 제일 잘나가는 게 뭐죠 또 만약 비자가 잘 나가는데 왜 클로바 나비 차 하나랑 비스테까 하나 주세요 와인은 화이트 와인 2잔이랑 레드와인 한잔 주세요\"}\n"
          ],
          "name": "stdout"
        }
      ]
    },
    {
      "cell_type": "code",
      "metadata": {
        "id": "N7hyZ5C2qxfW",
        "colab_type": "code",
        "outputId": "76559aba-2ecb-4375-91d7-bedfb5b00f0f",
        "colab": {
          "base_uri": "https://localhost:8080/",
          "height": 55
        }
      },
      "source": [
        "from konlpy.tag import Okt\n",
        "okt=Okt()\n",
        "print(okt.morphs(txt))\n"
      ],
      "execution_count": 0,
      "outputs": [
        {
          "output_type": "stream",
          "text": [
            "['{\"', 'text', '\":\"', '파스타', '는', '알리오', '올', '리오', '나', '까르보나라', '나', '라', '구', '파스타', '하나', '그리고', '샐러드', '는', '픽셀', '로', '달려', '주시', '고', '그리고', '파스타', '해산물', '토마토', '파스타', '나도', '주세요', '그리고', '피자', '는', '제일', '잘나가는', '게', '뭐', '죠', '또', '만약', '비자', '가', '잘', '나가는데', '클로', '바', '너', '피자', '하나', '랑', '비스테까', '하나', '주세요', '와인', '은', '화이트', '와인', '2', '잔', '이랑', '레드와인', '한잔', '주세요', '\"}']\n"
          ],
          "name": "stdout"
        }
      ]
    },
    {
      "cell_type": "code",
      "metadata": {
        "id": "NaOD4APXydf7",
        "colab_type": "code",
        "outputId": "8c0c6697-700c-4e14-f4a3-dc62a59dfd78",
        "colab": {
          "base_uri": "https://localhost:8080/",
          "height": 181
        }
      },
      "source": [
        "import nltk\n",
        "nltk.download('punkt')\n",
        "nltk.download('averaged_perceptron_tagger')\n",
        "from nltk.tokenize import word_tokenize\n",
        "token=word_tokenize(txt)\n",
        "tag=nltk.pos_tag(token)\n",
        "print(token)\n",
        "print(tag)\n"
      ],
      "execution_count": 0,
      "outputs": [
        {
          "output_type": "stream",
          "text": [
            "[nltk_data] Downloading package punkt to /root/nltk_data...\n",
            "[nltk_data]   Package punkt is already up-to-date!\n",
            "[nltk_data] Downloading package averaged_perceptron_tagger to\n",
            "[nltk_data]     /root/nltk_data...\n",
            "[nltk_data]   Package averaged_perceptron_tagger is already up-to-\n",
            "[nltk_data]       date!\n",
            "['{', '``', 'text', \"''\", ':', \"''\", '파스타는', '알리오', '올리오나', '까르보나라나', '라구', '파스타', '하나', '그리고', '샐러드는', '픽셀로', '달려', '주시고', '그리고', '파스타', '해산물', '토마토', '파스타', '나도', '주세요', '그리고', '피자는', '제일', '잘나가는', '게', '뭐죠', '또', '만약', '비자가', '잘', '나가는데', '클로바', '너', '피자', '하나랑', '비스테까', '하나', '주세요', '와인은', '화이트', '와인', '2잔이랑', '레드와인', '한잔', '주세요', \"''\", '}']\n",
            "[('{', '('), ('``', '``'), ('text', 'NN'), (\"''\", \"''\"), (':', ':'), (\"''\", \"''\"), ('파스타는', 'VBZ'), ('알리오', 'NNP'), ('올리오나', 'NNP'), ('까르보나라나', 'NNP'), ('라구', 'NNP'), ('파스타', 'NNP'), ('하나', 'NNP'), ('그리고', 'NNP'), ('샐러드는', 'NNP'), ('픽셀로', 'NNP'), ('달려', 'NNP'), ('주시고', 'NNP'), ('그리고', 'NNP'), ('파스타', 'NNP'), ('해산물', 'NNP'), ('토마토', 'NNP'), ('파스타', 'NNP'), ('나도', 'NNP'), ('주세요', 'NNP'), ('그리고', 'NNP'), ('피자는', 'NNP'), ('제일', 'NNP'), ('잘나가는', 'NNP'), ('게', 'NNP'), ('뭐죠', 'NNP'), ('또', 'NNP'), ('만약', 'NNP'), ('비자가', 'NNP'), ('잘', 'NNP'), ('나가는데', 'NNP'), ('클로바', 'NNP'), ('너', 'NNP'), ('피자', 'NNP'), ('하나랑', 'NNP'), ('비스테까', 'NNP'), ('하나', 'NNP'), ('주세요', 'NNP'), ('와인은', 'NNP'), ('화이트', 'NNP'), ('와인', 'VBD'), ('2잔이랑', 'CD'), ('레드와인', 'NNP'), ('한잔', 'NNP'), ('주세요', 'NNP'), (\"''\", \"''\"), ('}', ')')]\n"
          ],
          "name": "stdout"
        }
      ]
    },
    {
      "cell_type": "code",
      "metadata": {
        "id": "auu9lfB9SRTU",
        "colab_type": "code",
        "outputId": "b3954c30-6719-418a-a2a5-795b2452a0b0",
        "colab": {
          "base_uri": "https://localhost:8080/",
          "height": 390
        }
      },
      "source": [
        "from openpyxl import load_workbook\n",
        "import numpy as np\n",
        "#가게 이름과 해당 가게의 메뉴 리스트가 담긴 엑셀\n",
        "tempEx=load_workbook(filename='/content/gdrive/My Drive/Colab Notebooks/stt/store_menu.xlsx')\n",
        "sheet1=tempEx['Sheet1']\n",
        "menu=[]\n",
        "\n",
        "#가게 이름\n",
        "store_name='서울 카레'\n",
        "\n",
        "num_list=[['한 ','하나','원'],['두 ','둘','투'],['세 ','셋','쓰리'],['네 ','넷','포'],['다섯 ','다섯','파이브'],['여섯 ','여섯','식스']\n",
        "          ,['일곱 ','일곱','세븐'],['여덟 ','여덟','에잇'],['아홉 ','아홉','나인'],['열 ','열','텐'],['열하나','열한 '],['열둘','열두 ']\n",
        "          ,['열셋','열세 '],['열넷','열네 '],['열다섯'],['열여섯'],['열일곱'],['열여덟'],['열아홉'],['스물','스무 ']]\n",
        "\n",
        "all_list=['전부','모두','씩']\n",
        "and_list=['고','요']\n",
        "for i in sheet1.rows:\n",
        "        k=i[0].value\n",
        "       \n",
        "        if k in store_name:\n",
        "          menu.append(i[1].value)\n",
        "\n",
        "print(menu)\n",
        "     \n",
        "with open('/content/gdrive/My Drive/Colab Notebooks/stt/test11.txt','rb') as f:\n",
        "    mylist=[f.read().decode('euc-kr')]\n",
        "print(mylist)\n",
        "\n",
        "menu_list=[]\n",
        "num_index=[]\n",
        "#첫 단어가 음식 이름일 경우\n",
        "for i in range(0,np.shape(menu)[0]):\n",
        "  t=menu[i]\n",
        "  u=mylist[0].find(t)\n",
        "  if(u==0):\n",
        "    \n",
        "    print(t)\n",
        "    print(u,u+len(t))\n",
        "    num_index.append([u,u+len(t)])\n",
        "    \n",
        "    menu_list.append([t])\n",
        "    \n",
        "#그 이후부터    \n",
        "for i in range(0,np.shape(menu)[0]):\n",
        "  t=menu[i]\n",
        "  u=mylist[0].find(' '+t)\n",
        "  if(u!=-1):\n",
        "    print(t)\n",
        "    print(u,u+len(t)+1)\n",
        "    menu_list.append([t])\n",
        "    num_index.append([u,u+len(t)+1])\n",
        "print(menu_list)\n",
        "print(num_index)\n",
        "\n",
        "\n",
        "for i in range(len(num_index)):\n",
        "  flag=0\n",
        "  for j in range(len(num_list)):\n",
        "    for w in range(len(num_list[j])):\n",
        "      if(i+1<len(num_index)):\n",
        "        #print(mylist[0][num_index[i][1]:num_index[i+1][0]])\n",
        "        result=mylist[0][num_index[i][1]:num_index[i+1][0]].find(num_list[j][w])\n",
        "      else:\n",
        "        #print(mylist[0][num_index[i][1]:])\n",
        "        result=mylist[0][num_index[i][1]:].find(num_list[j][w])\n",
        "      if(result!=-1):\n",
        "        menu_list[i].append(j+1)\n",
        "        flag=1\n",
        "        break\n",
        "    \n",
        "    if(flag==1):\n",
        "      break\n",
        "  if(flag==0 and j==len(num_list)-1):\n",
        "    menu_list[i].append(0)\n",
        "zero_menu=[]\n",
        "for i in range(len(menu_list)):\n",
        "  if(menu_list[i][1]==0):\n",
        "    zero_menu.append(i)\n",
        "    \n",
        "s_index=-9999\n",
        "e_index=-9999    \n",
        "for i in range(len(menu_list)):\n",
        "  for j in range(len(all_list)):\n",
        "    a=all_list[j]  \n",
        "    if(mylist[0].find(a)!=-1):\n",
        "      e_index=mylist[0].find(a)\n",
        "print(e_index)\n",
        "\n",
        "for i in range(len(menu_list)):\n",
        "  for j in range(len(and_list)):\n",
        "    a=and_list[j]\n",
        "    if(mylist[0].find(a)!=-1):\n",
        "      s_index=mylist[0].find(a)\n",
        "print(s_index)\n",
        "revise_list=[]\n",
        "for i in range(0,np.shape(menu)[0]):\n",
        "  t=menu[i]\n",
        "  u=mylist[0][s_index:e_index+1].find(' '+t)\n",
        "  if(u!=-1):\n",
        "    \n",
        "    revise_list.append([t])\n",
        "    \n",
        "'''''''''    \n",
        "for i in range(len(num_list)):\n",
        "  for j in range(len(num_list[i])):\n",
        "    t=num_list[i][j]\n",
        "    x=mylist[0][s_index:e_index+1].find(t)\n",
        "    if(x!=-1):\n",
        "      new_num=i+1\n",
        "'''''''''\n",
        "\n",
        "for i in range(len(menu_list)):\n",
        "  if(revise_list[len(revise_list)-1][0]==menu_list[i][0]):\n",
        "    new_num=menu_list[i][1]\n",
        "for i in range(len(revise_list)):\n",
        "  for j in range(len(menu_list)):\n",
        "    if(revise_list[i][0]==menu_list[j][0]):\n",
        "      print(revise_list[i],'revise')\n",
        "      menu_list[j][1]=new_num\n",
        "      \n",
        "for i in range(len(menu_list)):\n",
        "  if(menu_list[i][1]==0):\n",
        "    menu_list[i][1]=1\n",
        "  \n",
        "print(menu_list)    \n"
      ],
      "execution_count": 0,
      "outputs": [
        {
          "output_type": "stream",
          "text": [
            "['치킨데리볶음밥', '토마토하이라이스', '2프로 스테이크', '셀리스 화이트', '소고기사골카레', '갈비살떡볶이', '모둠버섯카레', '독일식 수제 소시지 세트', '버드와이저', '아메리카노', '까르후', '콜라', '애플 스파클링', '밀키스', '감바스 알 아히요 세트', '펑크IPA', '사이다', '닭고기버터카레']\n",
            "['치킨데리볶음밥이랑 토마토하이라이스랑 셀리스 화이트로 주세요 밀키스랑 사이다 두 개씩 주세요']\n",
            "치킨데리볶음밥\n",
            "0 7\n",
            "토마토하이라이스\n",
            "9 18\n",
            "셀리스 화이트\n",
            "19 27\n",
            "밀키스\n",
            "32 36\n",
            "사이다\n",
            "37 41\n",
            "[['치킨데리볶음밥'], ['토마토하이라이스'], ['셀리스 화이트'], ['밀키스'], ['사이다']]\n",
            "[[0, 7], [9, 18], [19, 27], [32, 36], [37, 41]]\n",
            "45\n",
            "31\n",
            "['밀키스'] revise\n",
            "['사이다'] revise\n",
            "[['치킨데리볶음밥', 1], ['토마토하이라이스', 1], ['셀리스 화이트', 1], ['밀키스', 2], ['사이다', 2]]\n"
          ],
          "name": "stdout"
        }
      ]
    },
    {
      "cell_type": "code",
      "metadata": {
        "id": "CogeHNOyYY5I",
        "colab_type": "code",
        "outputId": "020f18d4-2fdb-4b83-f392-9c029206a1d9",
        "colab": {
          "base_uri": "https://localhost:8080/",
          "height": 351
        }
      },
      "source": [
        "from openpyxl import load_workbook\n",
        "import numpy as np\n",
        "tempEx=load_workbook(filename='/content/gdrive/My Drive/Colab Notebooks/stt/store_menu.xlsx')\n",
        "sheet1=tempEx['Sheet1']\n",
        "store_name='서울 카레'\n",
        "\n",
        "for i in sheet1.rows:\n",
        "        k=i[0].value\n",
        "       \n",
        "        if k in store_name:\n",
        "          print(i[1].value)"
      ],
      "execution_count": 0,
      "outputs": [
        {
          "output_type": "stream",
          "text": [
            "치킨데리볶음밥\n",
            "토마토하이라이스\n",
            "2프로 스테이크\n",
            "셀리스 화이트\n",
            "소고기사골카레\n",
            "갈비살떡볶이\n",
            "모둠버섯카레\n",
            "독일식 수제 소시지 세트\n",
            "버드와이저\n",
            "아메리카노\n",
            "까르후\n",
            "콜라\n",
            "애플 스파클링\n",
            "밀키스\n",
            "감바스 알 아히요 세트\n",
            "펑크IPA\n",
            "사이다\n",
            "닭고기버터카레\n"
          ],
          "name": "stdout"
        }
      ]
    }
  ]
}