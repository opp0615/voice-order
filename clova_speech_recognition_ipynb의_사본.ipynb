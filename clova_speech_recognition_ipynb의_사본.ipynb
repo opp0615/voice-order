{
  "nbformat": 4,
  "nbformat_minor": 0,
  "metadata": {
    "colab": {
      "name": "clova_speech_recognition.ipynb의 사본",
      "version": "0.3.2",
      "provenance": [],
      "collapsed_sections": [],
      "include_colab_link": true
    },
    "kernelspec": {
      "name": "python3",
      "display_name": "Python 3"
    },
    "accelerator": "GPU"
  },
  "cells": [
    {
      "cell_type": "markdown",
      "metadata": {
        "id": "view-in-github",
        "colab_type": "text"
      },
      "source": [
        "<a href=\"https://colab.research.google.com/github/opp0615/voice-order/blob/master/clova_speech_recognition_ipynb%EC%9D%98_%EC%82%AC%EB%B3%B8.ipynb\" target=\"_parent\"><img src=\"https://colab.research.google.com/assets/colab-badge.svg\" alt=\"Open In Colab\"/></a>"
      ]
    },
    {
      "cell_type": "code",
      "metadata": {
        "id": "3up8NYZ3k18u",
        "colab_type": "code",
        "outputId": "c5a3a542-2236-4d92-afe1-559b6ca9ec6f",
        "colab": {
          "base_uri": "https://localhost:8080/",
          "height": 130
        }
      },
      "source": [
        "from google.colab import drive\n",
        "drive.mount('/content/gdrive')"
      ],
      "execution_count": 2,
      "outputs": [
        {
          "output_type": "stream",
          "text": [
            "Go to this URL in a browser: https://accounts.google.com/o/oauth2/auth?client_id=947318989803-6bn6qk8qdgf4n4g3pfee6491hc0brc4i.apps.googleusercontent.com&redirect_uri=urn%3Aietf%3Awg%3Aoauth%3A2.0%3Aoob&scope=email%20https%3A%2F%2Fwww.googleapis.com%2Fauth%2Fdocs.test%20https%3A%2F%2Fwww.googleapis.com%2Fauth%2Fdrive%20https%3A%2F%2Fwww.googleapis.com%2Fauth%2Fdrive.photos.readonly%20https%3A%2F%2Fwww.googleapis.com%2Fauth%2Fpeopleapi.readonly&response_type=code\n",
            "\n",
            "Enter your authorization code:\n",
            "··········\n",
            "Mounted at /content/gdrive\n"
          ],
          "name": "stdout"
        }
      ]
    },
    {
      "cell_type": "code",
      "metadata": {
        "id": "auu9lfB9SRTU",
        "colab_type": "code",
        "outputId": "9f6b0704-9ccb-4cab-94fe-4462a21dd776",
        "colab": {
          "base_uri": "https://localhost:8080/",
          "height": 110
        }
      },
      "source": [
        "from openpyxl import load_workbook\n",
        "import numpy as np\n",
        "#가게 이름과 해당 가게의 메뉴 리스트가 담긴 엑셀\n",
        "tempEx=load_workbook(filename='/content/gdrive/My Drive/Colab Notebooks/stt/store_menu.xlsx')\n",
        "sheet1=tempEx['Sheet1']\n",
        "menu=[]\n",
        "\n",
        "#가게 이름\n",
        "store_name='서울 카레'\n",
        "\n",
        "num_list=[['한 ','하나','원'],['두 ','둘','투'],['세 ','셋','쓰리'],['네 ','넷','포'],['다섯 ','다섯','파이브'],['여섯 ','여섯','식스']\n",
        "          ,['일곱 ','일곱','세븐'],['여덟 ','여덟','에잇'],['아홉 ','아홉','나인'],['열 ','열','텐'],['열하나','열한 '],['열둘','열두 ']\n",
        "          ,['열셋','열세 '],['열넷','열네 '],['열다섯'],['열여섯'],['열일곱'],['열여덟'],['열아홉'],['스물','스무 ']]\n",
        "\n",
        "#수량을 묶어 세는 경우를 확인하기 위한 부사 list\n",
        "all_list=['전부','모두','씩']\n",
        "\n",
        "#문장이 끊기는 단위를 확인하기 위한 접속사 list\n",
        "and_list=['고','요']\n",
        "\n",
        "#해당 음식점의 메뉴를 불러와 전체 메뉴 리스트를 생성\n",
        "for i in sheet1.rows:\n",
        "        k=i[0].value\n",
        "        if k in store_name:\n",
        "          menu.append(i[1].value)\n",
        "\n",
        "          \n",
        "#주문을 mylist에 받아옴          \n",
        "with open('/content/gdrive/My Drive/Colab Notebooks/stt/test13.txt','rb') as f:\n",
        "    mylist=[f.read().decode('euc-kr')]\n",
        "print(mylist)\n",
        "\n",
        "\n",
        "#menu_list->주문이 들어갈 메뉴들 집합\n",
        "menu_list={}\n",
        "\n",
        "#num_index->수량 확인을 위해 메뉴가 말해진 구간을 확정지음\n",
        "num_index={}\n",
        "\n",
        "#첫 단어가 음식 이름일 경우\n",
        "for i in range(0,np.shape(menu)[0]):\n",
        "  t=menu[i]\n",
        "  u=mylist[0].find(t)\n",
        "  if(u==0):\n",
        "    num_index[t]=[u,u+len(t)]\n",
        "    menu_list[t]=0\n",
        "    \n",
        "#그 이후부터    \n",
        "for i in range(0,np.shape(menu)[0]):\n",
        "  t=menu[i]\n",
        "  u=mylist[0].find(' '+t)\n",
        "  if(u!=-1):\n",
        "    menu_list[t]=0\n",
        "    num_index[t]=[u,u+len(t)+1]\n",
        "print(menu_list)\n",
        "print(num_index)\n",
        "\n",
        "l_menu_list=list(menu_list.keys())\n",
        "print(l_menu_list)\n",
        "\n",
        "\n",
        "\n",
        "\n",
        "#메뉴와 메뉴 사이의 구간에서 수량 표현을 찾아 menu_list에 append함\n",
        "for i in range(len(num_index)):\n",
        "  flag=0\n",
        "  for j in range(len(num_list)):\n",
        "    for w in range(len(num_list[j])):\n",
        "      if(i+1<len(num_index)):\n",
        "        result=mylist[0][num_index[l_menu_list[i]][1]:num_index[l_menu_list[i+1]][0]].find(num_list[j][w])\n",
        "      else:\n",
        "        result=mylist[0][num_index[l_menu_list[i]][1]:].find(num_list[j][w])\n",
        "      if(result!=-1):\n",
        "        menu_list[l_menu_list[i]]=j+1\n",
        "        flag=1\n",
        "        break\n",
        "    \n",
        "    if(flag==1):\n",
        "      break\n",
        "  if(flag==0 and j==len(num_list)-1):\n",
        "    menu_list[l_menu_list[i]]=0\n",
        "\n",
        "#수량이 0인 메뉴들을 zero_menu에 append\n",
        "zero_menu=[]\n",
        "for i in range(len(menu_list)):\n",
        "  if(menu_list[l_menu_list[i]]==0):\n",
        "    zero_menu.append(i)\n",
        "    \n",
        "s_index=-9999\n",
        "e_index=-9999\n",
        "\n",
        "#부사 표현이 들어간 리스트의 인덱스를 저장\n",
        "for i in range(len(menu_list)):\n",
        "  for j in range(len(all_list)):\n",
        "    a=all_list[j]  \n",
        "    if(mylist[0].find(a)!=-1):\n",
        "      e_index=mylist[0].find(a)\n",
        "\n",
        "#접속사 표현이 들어간 리스트의 인덱스를 저장      \n",
        "for i in range(len(menu_list)):\n",
        "  for j in range(len(and_list)):\n",
        "    a=and_list[j]\n",
        "    if(mylist[0].find(a)!=-1):\n",
        "      s_index=mylist[0].find(a)\n",
        "\n",
        "#부사 표현이 들어간 인덱스와 접속사 표현이 들어간 인덱스들 사이에 있는 메뉴를 revise_list에 저장      \n",
        "revise_list=[]\n",
        "for i in range(0,np.shape(menu)[0]):\n",
        "  t=menu[i]\n",
        "  u=mylist[0][s_index:e_index+1].find(' '+t)\n",
        "  if(u!=-1):\n",
        "    revise_list.append([t])\n",
        "\n",
        "#revise_list 다음에 나오는 메뉴의 수량을 revise_list의 메뉴들에 적용\n",
        "for i in range(len(menu_list)):\n",
        "  if(revise_list[len(revise_list)-1][0]==l_menu_list[i]):\n",
        "    new_num=menu_list[l_menu_list[i]]\n",
        "for i in range(len(revise_list)):\n",
        "  for j in range(len(menu_list)):\n",
        "    if(revise_list[i][0]==l_menu_list[j]):\n",
        "      menu_list[l_menu_list[j]]=new_num\n",
        "\n",
        "#수량표현이 없는 메뉴들의 수량을 0에서 1로 변경      \n",
        "for i in range(len(menu_list)):\n",
        "  if(menu_list[l_menu_list[i]]==0):\n",
        "    menu_list[l_menu_list[i]]=1\n",
        "  \n",
        "print(menu_list)    \n"
      ],
      "execution_count": 28,
      "outputs": [
        {
          "output_type": "stream",
          "text": [
            "['토마토하이라이스랑 치킨데리볶음밥 두 개랑 셀리스 화이트로 주세요 밀키스랑 사이다 전부 두 개 주세요']\n",
            "{'토마토하이라이스': 0, '치킨데리볶음밥': 0, '셀리스 화이트': 0, '밀키스': 0, '사이다': 0}\n",
            "{'토마토하이라이스': [0, 8], '치킨데리볶음밥': [9, 17], '셀리스 화이트': [22, 30], '밀키스': [35, 39], '사이다': [40, 44]}\n",
            "['토마토하이라이스', '치킨데리볶음밥', '셀리스 화이트', '밀키스', '사이다']\n",
            "{'토마토하이라이스': 1, '치킨데리볶음밥': 2, '셀리스 화이트': 1, '밀키스': 2, '사이다': 2}\n"
          ],
          "name": "stdout"
        }
      ]
    },
    {
      "cell_type": "code",
      "metadata": {
        "id": "AWrgs_A7XbgR",
        "colab_type": "code",
        "outputId": "e85edd02-dc8a-4ae6-8317-07d3b231366f",
        "colab": {
          "base_uri": "https://localhost:8080/",
          "height": 148
        }
      },
      "source": [
        "import sys\n",
        "import requests\n",
        "\n",
        "#!pip install pymysql\n",
        "import pymysql\n",
        "import os\n",
        "import sys\n",
        "sys.path.insert(0, '/content/gdrive/My Drive/Colab Notebooks/stt/')\n",
        "import config\n",
        "\n",
        "client_id=config.DATABASE_CONFIG['client_id']\n",
        "client_secret=config.DATABASE_CONFIG['client_secret']\n",
        "lang = \"Kor\" # 언어 코드 ( Kor, Jpn, Eng, Chn )\n",
        "url = \"https://naveropenapi.apigw.ntruss.com/recog/v1/stt?lang=\" + lang\n",
        "data = open('/content/gdrive/My Drive/Colab Notebooks/stt/3.m4a', 'rb')\n",
        "headers = {\n",
        "    \"X-NCP-APIGW-API-KEY-ID\": client_id,\n",
        "    \"X-NCP-APIGW-API-KEY\": client_secret,\n",
        "    \"Content-Type\": \"application/octet-stream\"\n",
        "}\n",
        "response = requests.post(url,  data=data, headers=headers)\n",
        "rescode = response.status_code\n",
        "if(rescode == 200):\n",
        "    print (response.text)\n",
        "else:\n",
        "    print(\"Error : \" + response.text)\n",
        "txt=response.text"
      ],
      "execution_count": 4,
      "outputs": [
        {
          "output_type": "stream",
          "text": [
            "Collecting pymysql\n",
            "\u001b[?25l  Downloading https://files.pythonhosted.org/packages/ed/39/15045ae46f2a123019aa968dfcba0396c161c20f855f11dea6796bcaae95/PyMySQL-0.9.3-py2.py3-none-any.whl (47kB)\n",
            "\u001b[K     |████████████████████████████████| 51kB 2.0MB/s \n",
            "\u001b[?25hInstalling collected packages: pymysql\n",
            "Successfully installed pymysql-0.9.3\n",
            "{\"text\":\"파스타는 알리오 올리오나 까르보나라나 라구 파스타 하나 그리고 샐러드는 픽셀로 달려 주시고 그리고 파스타 해산물 토마토 파스타 나도 주세요 그리고 피자는 제일 잘나가는 게 뭐죠 또 만약 비자가 잘 나가는데 클로바 너 피자 하나랑 비스테까 하나 주세요 와인은 화이트 와인 2잔이랑 레드와인 한잔 주세요\"}\n"
          ],
          "name": "stdout"
        }
      ]
    },
    {
      "cell_type": "code",
      "metadata": {
        "id": "NaOD4APXydf7",
        "colab_type": "code",
        "outputId": "70f2feb1-933b-4f77-b20e-51f38a45d31e",
        "colab": {
          "base_uri": "https://localhost:8080/",
          "height": 167
        }
      },
      "source": [
        "import nltk\n",
        "nltk.download('punkt')\n",
        "nltk.download('averaged_perceptron_tagger')\n",
        "from nltk.tokenize import word_tokenize\n",
        "token=word_tokenize(txt)\n",
        "tag=nltk.pos_tag(token)\n",
        "print(token)\n",
        "print(tag)\n"
      ],
      "execution_count": 8,
      "outputs": [
        {
          "output_type": "stream",
          "text": [
            "[nltk_data] Downloading package punkt to /root/nltk_data...\n",
            "[nltk_data]   Unzipping tokenizers/punkt.zip.\n",
            "[nltk_data] Downloading package averaged_perceptron_tagger to\n",
            "[nltk_data]     /root/nltk_data...\n",
            "[nltk_data]   Unzipping taggers/averaged_perceptron_tagger.zip.\n",
            "['{', '``', 'text', \"''\", ':', \"''\", '파스타는', '알리오', '올리오나', '까르보나라나', '라구', '파스타', '하나', '그리고', '샐러드는', '픽셀로', '달려', '주시고', '그리고', '파스타', '해산물', '토마토', '파스타', '나도', '주세요', '그리고', '피자는', '제일', '잘나가는', '게', '뭐죠', '또', '만약', '비자가', '잘', '나가는데', '클로바', '너', '피자', '하나랑', '비스테까', '하나', '주세요', '와인은', '화이트', '와인', '2잔이랑', '레드와인', '한잔', '주세요', \"''\", '}']\n",
            "[('{', '('), ('``', '``'), ('text', 'NN'), (\"''\", \"''\"), (':', ':'), (\"''\", \"''\"), ('파스타는', 'VBZ'), ('알리오', 'NNP'), ('올리오나', 'NNP'), ('까르보나라나', 'NNP'), ('라구', 'NNP'), ('파스타', 'NNP'), ('하나', 'NNP'), ('그리고', 'NNP'), ('샐러드는', 'NNP'), ('픽셀로', 'NNP'), ('달려', 'NNP'), ('주시고', 'NNP'), ('그리고', 'NNP'), ('파스타', 'NNP'), ('해산물', 'NNP'), ('토마토', 'NNP'), ('파스타', 'NNP'), ('나도', 'NNP'), ('주세요', 'NNP'), ('그리고', 'NNP'), ('피자는', 'NNP'), ('제일', 'NNP'), ('잘나가는', 'NNP'), ('게', 'NNP'), ('뭐죠', 'NNP'), ('또', 'NNP'), ('만약', 'NNP'), ('비자가', 'NNP'), ('잘', 'NNP'), ('나가는데', 'NNP'), ('클로바', 'NNP'), ('너', 'NNP'), ('피자', 'NNP'), ('하나랑', 'NNP'), ('비스테까', 'NNP'), ('하나', 'NNP'), ('주세요', 'NNP'), ('와인은', 'NNP'), ('화이트', 'NNP'), ('와인', 'VBD'), ('2잔이랑', 'CD'), ('레드와인', 'NNP'), ('한잔', 'NNP'), ('주세요', 'NNP'), (\"''\", \"''\"), ('}', ')')]\n"
          ],
          "name": "stdout"
        }
      ]
    },
    {
      "cell_type": "code",
      "metadata": {
        "id": "N7hyZ5C2qxfW",
        "colab_type": "code",
        "outputId": "9b1488b4-dd9a-4328-f55c-f68d76ef3ed0",
        "colab": {
          "base_uri": "https://localhost:8080/",
          "height": 390
        }
      },
      "source": [
        "#!pip install konlpy\n",
        "from konlpy.tag import Okt\n",
        "okt=Okt()\n",
        "print(okt.morphs(txt))\n"
      ],
      "execution_count": 7,
      "outputs": [
        {
          "output_type": "stream",
          "text": [
            "Collecting konlpy\n",
            "\u001b[?25l  Downloading https://files.pythonhosted.org/packages/e5/3d/4e983cd98d87b50b2ab0387d73fa946f745aa8164e8888a714d5129f9765/konlpy-0.5.1-py2.py3-none-any.whl (19.4MB)\n",
            "\u001b[K     |████████████████████████████████| 19.4MB 2.6MB/s \n",
            "\u001b[?25hCollecting JPype1>=0.5.7 (from konlpy)\n",
            "\u001b[?25l  Downloading https://files.pythonhosted.org/packages/07/09/e19ce27d41d4f66d73ac5b6c6a188c51b506f56c7bfbe6c1491db2d15995/JPype1-0.7.0-cp36-cp36m-manylinux2010_x86_64.whl (2.7MB)\n",
            "\u001b[K     |████████████████████████████████| 2.7MB 44.2MB/s \n",
            "\u001b[?25hInstalling collected packages: JPype1, konlpy\n",
            "Successfully installed JPype1-0.7.0 konlpy-0.5.1\n"
          ],
          "name": "stdout"
        },
        {
          "output_type": "stream",
          "text": [
            "/usr/local/lib/python3.6/dist-packages/jpype/_core.py:210: UserWarning: \n",
            "-------------------------------------------------------------------------------\n",
            "Deprecated: convertStrings was not specified when starting the JVM. The default\n",
            "behavior in JPype will be False starting in JPype 0.8. The recommended setting\n",
            "for new code is convertStrings=False.  The legacy value of True was assumed for\n",
            "this session. If you are a user of an application that reported this warning,\n",
            "please file a ticket with the developer.\n",
            "-------------------------------------------------------------------------------\n",
            "\n",
            "  \"\"\")\n"
          ],
          "name": "stderr"
        },
        {
          "output_type": "stream",
          "text": [
            "['{\"', 'text', '\":\"', '파스타', '는', '알리오', '올', '리오', '나', '까르보나라', '나', '라', '구', '파스타', '하나', '그리고', '샐러드', '는', '픽셀', '로', '달려', '주시', '고', '그리고', '파스타', '해산물', '토마토', '파스타', '나도', '주세요', '그리고', '피자', '는', '제일', '잘나가는', '게', '뭐', '죠', '또', '만약', '비자', '가', '잘', '나가는데', '클로', '바', '너', '피자', '하나', '랑', '비스테까', '하나', '주세요', '와인', '은', '화이트', '와인', '2', '잔', '이랑', '레드와인', '한잔', '주세요', '\"}']\n"
          ],
          "name": "stdout"
        }
      ]
    },
    {
      "cell_type": "code",
      "metadata": {
        "id": "CogeHNOyYY5I",
        "colab_type": "code",
        "outputId": "020f18d4-2fdb-4b83-f392-9c029206a1d9",
        "colab": {
          "base_uri": "https://localhost:8080/",
          "height": 351
        }
      },
      "source": [
        "from openpyxl import load_workbook\n",
        "import numpy as np\n",
        "tempEx=load_workbook(filename='/content/gdrive/My Drive/Colab Notebooks/stt/store_menu.xlsx')\n",
        "sheet1=tempEx['Sheet1']\n",
        "store_name='서울 카레'\n",
        "\n",
        "for i in sheet1.rows:\n",
        "        k=i[0].value\n",
        "       \n",
        "        if k in store_name:\n",
        "          print(i[1].value)"
      ],
      "execution_count": 0,
      "outputs": [
        {
          "output_type": "stream",
          "text": [
            "치킨데리볶음밥\n",
            "토마토하이라이스\n",
            "2프로 스테이크\n",
            "셀리스 화이트\n",
            "소고기사골카레\n",
            "갈비살떡볶이\n",
            "모둠버섯카레\n",
            "독일식 수제 소시지 세트\n",
            "버드와이저\n",
            "아메리카노\n",
            "까르후\n",
            "콜라\n",
            "애플 스파클링\n",
            "밀키스\n",
            "감바스 알 아히요 세트\n",
            "펑크IPA\n",
            "사이다\n",
            "닭고기버터카레\n"
          ],
          "name": "stdout"
        }
      ]
    }
  ]
}